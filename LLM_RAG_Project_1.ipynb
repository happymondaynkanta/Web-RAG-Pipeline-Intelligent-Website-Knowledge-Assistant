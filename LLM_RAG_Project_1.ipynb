{
  "nbformat": 4,
  "nbformat_minor": 0,
  "metadata": {
    "colab": {
      "provenance": [],
      "gpuType": "T4",
      "authorship_tag": "ABX9TyNhugkb02zMAA68IonmvExZ",
      "include_colab_link": true
    },
    "kernelspec": {
      "name": "python3",
      "display_name": "Python 3"
    },
    "language_info": {
      "name": "python"
    },
    "accelerator": "GPU"
  },
  "cells": [
    {
      "cell_type": "markdown",
      "metadata": {
        "id": "view-in-github",
        "colab_type": "text"
      },
      "source": [
        "<a href=\"https://colab.research.google.com/github/happymondaynkanta/Web-RAG-Pipeline-Intelligent-Website-Knowledge-Assistant/blob/main/LLM_RAG_Project_1.ipynb\" target=\"_parent\"><img src=\"https://colab.research.google.com/assets/colab-badge.svg\" alt=\"Open In Colab\"/></a>"
      ]
    },
    {
      "cell_type": "code",
      "execution_count": 28,
      "metadata": {
        "id": "SjrPqBgd8e6_"
      },
      "outputs": [],
      "source": [
        "!pip -q install -U langchain-community langchain-text-splitters chromadb sentence-transformers beautifulsoup4\n"
      ]
    },
    {
      "cell_type": "code",
      "source": [
        "from langchain_community.document_loaders import RecursiveUrlLoader\n",
        "from bs4 import BeautifulSoup\n",
        "from pathlib import Path\n",
        "import re\n",
        "\n",
        "START_URL = \"https://www.educosys.com\"\n",
        "MAX_DEPTH = 2  # raise to 3–4 to go deeper\n",
        "\n",
        "def bs4_extractor(html: str) -> str:\n",
        "    soup = BeautifulSoup(html, \"html.parser\")\n",
        "    for t in soup([\"script\",\"style\",\"noscript\",\"header\",\"footer\",\"nav\"]):\n",
        "        t.decompose()\n",
        "    txt = soup.get_text(separator=\"\\n\")\n",
        "    return \"\\n\".join(ln.strip() for ln in txt.splitlines() if ln.strip())\n",
        "\n",
        "loader = RecursiveUrlLoader(\n",
        "    url=START_URL,\n",
        "    max_depth=MAX_DEPTH,\n",
        "    extractor=bs4_extractor,\n",
        "    prevent_outside=True,\n",
        "    use_async=False,             # important in notebooks\n",
        "    timeout=30,\n",
        "    check_response_status=True,\n",
        "    exclude_dirs=[\"/logout\",\".pdf\",\".zip\",\".jpg\",\".jpeg\",\".png\",\".svg\",\".gif\",\".ico\"],\n",
        ")\n",
        "\n",
        "docs_raw = loader.load()\n",
        "docs = [\n",
        "    d for d in docs_raw\n",
        "    if d.metadata.get(\"source\",\"\").startswith(\"https://www.educosys.com\")\n",
        "    and not re.search(r\"\\.(pdf|zip|jpg|jpeg|png|svg|gif|ico)$\", d.metadata.get(\"source\",\"\"), re.I)\n",
        "    and len(d.page_content.split()) > 30\n",
        "]\n",
        "print(f\"Kept {len(docs)} pages\")\n"
      ],
      "metadata": {
        "colab": {
          "base_uri": "https://localhost:8080/"
        },
        "id": "hjmfXk4C-RRQ",
        "outputId": "139fe613-922e-45ed-82cf-1de96b24aa1c"
      },
      "execution_count": 5,
      "outputs": [
        {
          "output_type": "stream",
          "name": "stdout",
          "text": [
            "Kept 19 pages\n"
          ]
        }
      ]
    },
    {
      "cell_type": "code",
      "source": [
        "from langchain_text_splitters import RecursiveCharacterTextSplitter\n",
        "\n",
        "splitter = RecursiveCharacterTextSplitter(\n",
        "    chunk_size=1200, chunk_overlap=150, separators=[\"\\n\\n\",\"\\n\",\" \",\"\"]\n",
        ")\n",
        "chunks = splitter.split_documents(docs)\n",
        "print(f\"{len(chunks)} chunks\")\n"
      ],
      "metadata": {
        "colab": {
          "base_uri": "https://localhost:8080/"
        },
        "id": "rmJfPHMiM3VS",
        "outputId": "e1e7f3e4-c378-4e3f-d56a-58c8f659ff9c"
      },
      "execution_count": 6,
      "outputs": [
        {
          "output_type": "stream",
          "name": "stdout",
          "text": [
            "209 chunks\n"
          ]
        }
      ]
    },
    {
      "cell_type": "code",
      "source": [
        "print(chunks[0])\n",
        "print(chunks[1])\n",
        "print(chunks[2])"
      ],
      "metadata": {
        "colab": {
          "base_uri": "https://localhost:8080/"
        },
        "id": "aTt6WSj7M8_u",
        "outputId": "69b8993b-6a64-42b2-dcff-da522f7c574d"
      },
      "execution_count": 7,
      "outputs": [
        {
          "output_type": "stream",
          "name": "stdout",
          "text": [
            "page_content='Educosys\n",
            "Join a passionate community\n",
            "Unlock Your Potential\n",
            "with\n",
            "Keerti Purswani\n",
            "Login\n",
            "Signup\n",
            "Checkout Educosys Courses\n",
            "Free Content\n",
            "Professional courses\n",
            "Courses that make you Skilled, Confident, and Industry-Ready\n",
            "Hands-On Generative AI\n",
            "Duration: 7 Weeks\n",
            "Learn more\n",
            "Bengaluru GenAI Offline Weekend B..\n",
            "Duration: 2 Days\n",
            "Learn more\n",
            "Hands-On High Level System Design\n",
            "Duration: 8 Weeks\n",
            "Learn more\n",
            "High Level Design\n",
            "Duration: 5 Weeks\n",
            "Learn more\n",
            "Low Level Design\n",
            "Duration: 5 Weeks\n",
            "Learn more\n",
            "Data Structures & Algorithms\n",
            "Duration: 6 Weeks\n",
            "Learn more\n",
            "Advanced C++\n",
            "Duration: 2 Weeks\n",
            "Learn more\n",
            "Advanced C++ with Networking\n",
            "Duration: 6 Weeks\n",
            "Learn more\n",
            "Bundle Courses\n",
            "Smart Bundles with Multiple Courses\n",
            "More Value, One Consistent Teaching Style\n",
            "All Courses\n",
            "DSA, HLD, LLD, HHLD, GenAI, Advanced C++\n",
            "Learn more\n",
            "Enroll\n",
            "Interview Prep\n",
            "DSA, HLD & LLD\n",
            "Learn more\n",
            "Enroll\n",
            "System Design\n",
            "LLD & HLD\n",
            "Learn more\n",
            "Enroll\n",
            "HLD - Interview Prep and Hands-on\n",
            "HLD & HHLD\n",
            "Learn more\n",
            "Enroll\n",
            "Advanced C++\n",
            "Learn more\n",
            "Enroll\n",
            "Our network\n",
            "Companies Where Our Students Work\n",
            "If you decide to join us, you will be part of a community and you will connect with professionals who work at top companies\n",
            "Frequently asked questions' metadata={'source': 'https://www.educosys.com', 'content_type': 'text/html; charset=utf-8', 'title': 'Educosys', 'description': 'Courses that make you Skilled, Confident, and Industry-Ready', 'language': 'en'}\n",
            "page_content='Frequently asked questions\n",
            "Are your courses pre-recorded or Live?\n",
            "Where are LIVE classes held?\n",
            "Will there be recordings of the classes?\n",
            "Do you have a mobile application?\n",
            "Can I watch the class recordings or go through notes offline?\n",
            "Do you provide certificates for courses?\n",
            "Can I get invoices for reimbursement?\n",
            "Where can I see courses specific information?\n",
            "Will you provide notes and code?\n",
            "What language are the courses taught in?\n",
            "How can I connect with fellow participants of the course?\n",
            "I have more questions, how can I reach out to you?\n",
            "Course certificate\n",
            "Enhance your resume with a\n",
            "professional certificate\n",
            "You will receive your certificate upon completion of the course. Add your certificate to your CV or your LinkedIn profile.\n",
            "Why Learn from Keerti Purswani\n",
            "She is the right mentor to make your learning journey faster, easier, and more fun!\n",
            "Cracked Amazon\n",
            "Cracked Atlassian\n",
            "Cracked Uber\n",
            "Cracked Microsoft\n",
            "Cracked Intuit\n",
            "Simplifies Complex Concepts\n",
            "Has conducted many interviews\n",
            "Caters - Beginners to Experts\n",
            "Available after the course ends\n",
            "Creates Safe Space for Students\n",
            "Provides personalized attention\n",
            "Conducts Mock Interviews\n",
            "Our community and success' metadata={'source': 'https://www.educosys.com', 'content_type': 'text/html; charset=utf-8', 'title': 'Educosys', 'description': 'Courses that make you Skilled, Confident, and Industry-Ready', 'language': 'en'}\n",
            "page_content='Available after the course ends\n",
            "Creates Safe Space for Students\n",
            "Provides personalized attention\n",
            "Conducts Mock Interviews\n",
            "Our community and success\n",
            "We are constantly growing and so is our community!\n",
            "YouTube\n",
            "0\n",
            "K+\n",
            "Enrollments\n",
            "0\n",
            "+\n",
            "LinkedIn\n",
            "0\n",
            "K+' metadata={'source': 'https://www.educosys.com', 'content_type': 'text/html; charset=utf-8', 'title': 'Educosys', 'description': 'Courses that make you Skilled, Confident, and Industry-Ready', 'language': 'en'}\n"
          ]
        }
      ]
    },
    {
      "cell_type": "code",
      "source": [
        "print(f\"{len(chunks)} chunks\")"
      ],
      "metadata": {
        "colab": {
          "base_uri": "https://localhost:8080/"
        },
        "id": "2LkBrMpsNEy_",
        "outputId": "893cb20f-820a-4c0b-f1a2-f4697fd95684"
      },
      "execution_count": 8,
      "outputs": [
        {
          "output_type": "stream",
          "name": "stdout",
          "text": [
            "209 chunks\n"
          ]
        }
      ]
    },
    {
      "cell_type": "code",
      "source": [
        "!pip -q install -U langchain-community langchain-text-splitters langchain-chroma sentence-transformers chromadb beautifulsoup4\n"
      ],
      "metadata": {
        "colab": {
          "base_uri": "https://localhost:8080/"
        },
        "id": "plE9pGrRVx19",
        "outputId": "84ff5793-3445-4759-95d8-40218bb2e038"
      },
      "execution_count": 3,
      "outputs": [
        {
          "output_type": "stream",
          "name": "stdout",
          "text": [
            "\u001b[?25l     \u001b[90m━━━━━━━━━━━━━━━━━━━━━━━━━━━━━━━━━━━━━━━━\u001b[0m \u001b[32m0.0/67.3 kB\u001b[0m \u001b[31m?\u001b[0m eta \u001b[36m-:--:--\u001b[0m\r\u001b[2K     \u001b[90m━━━━━━━━━━━━━━━━━━━━━━━━━━━━━━━━━━━━━━━━\u001b[0m \u001b[32m67.3/67.3 kB\u001b[0m \u001b[31m4.0 MB/s\u001b[0m eta \u001b[36m0:00:00\u001b[0m\n",
            "\u001b[?25h  Installing build dependencies ... \u001b[?25l\u001b[?25hdone\n",
            "  Getting requirements to build wheel ... \u001b[?25l\u001b[?25hdone\n",
            "  Preparing metadata (pyproject.toml) ... \u001b[?25l\u001b[?25hdone\n",
            "\u001b[2K   \u001b[90m━━━━━━━━━━━━━━━━━━━━━━━━━━━━━━━━━━━━━━━━\u001b[0m \u001b[32m2.5/2.5 MB\u001b[0m \u001b[31m56.0 MB/s\u001b[0m eta \u001b[36m0:00:00\u001b[0m\n",
            "\u001b[2K   \u001b[90m━━━━━━━━━━━━━━━━━━━━━━━━━━━━━━━━━━━━━━━━\u001b[0m \u001b[32m19.8/19.8 MB\u001b[0m \u001b[31m111.1 MB/s\u001b[0m eta \u001b[36m0:00:00\u001b[0m\n",
            "\u001b[2K   \u001b[90m━━━━━━━━━━━━━━━━━━━━━━━━━━━━━━━━━━━━━━━━\u001b[0m \u001b[32m284.2/284.2 kB\u001b[0m \u001b[31m27.5 MB/s\u001b[0m eta \u001b[36m0:00:00\u001b[0m\n",
            "\u001b[2K   \u001b[90m━━━━━━━━━━━━━━━━━━━━━━━━━━━━━━━━━━━━━━━━\u001b[0m \u001b[32m1.9/1.9 MB\u001b[0m \u001b[31m91.2 MB/s\u001b[0m eta \u001b[36m0:00:00\u001b[0m\n",
            "\u001b[2K   \u001b[90m━━━━━━━━━━━━━━━━━━━━━━━━━━━━━━━━━━━━━━━━\u001b[0m \u001b[32m447.5/447.5 kB\u001b[0m \u001b[31m38.2 MB/s\u001b[0m eta \u001b[36m0:00:00\u001b[0m\n",
            "\u001b[2K   \u001b[90m━━━━━━━━━━━━━━━━━━━━━━━━━━━━━━━━━━━━━━━━\u001b[0m \u001b[32m103.3/103.3 kB\u001b[0m \u001b[31m8.7 MB/s\u001b[0m eta \u001b[36m0:00:00\u001b[0m\n",
            "\u001b[2K   \u001b[90m━━━━━━━━━━━━━━━━━━━━━━━━━━━━━━━━━━━━━━━━\u001b[0m \u001b[32m16.5/16.5 MB\u001b[0m \u001b[31m114.7 MB/s\u001b[0m eta \u001b[36m0:00:00\u001b[0m\n",
            "\u001b[2K   \u001b[90m━━━━━━━━━━━━━━━━━━━━━━━━━━━━━━━━━━━━━━━━\u001b[0m \u001b[32m72.5/72.5 kB\u001b[0m \u001b[31m6.7 MB/s\u001b[0m eta \u001b[36m0:00:00\u001b[0m\n",
            "\u001b[2K   \u001b[90m━━━━━━━━━━━━━━━━━━━━━━━━━━━━━━━━━━━━━━━━\u001b[0m \u001b[32m131.9/131.9 kB\u001b[0m \u001b[31m13.1 MB/s\u001b[0m eta \u001b[36m0:00:00\u001b[0m\n",
            "\u001b[2K   \u001b[90m━━━━━━━━━━━━━━━━━━━━━━━━━━━━━━━━━━━━━━━━\u001b[0m \u001b[32m65.7/65.7 kB\u001b[0m \u001b[31m7.3 MB/s\u001b[0m eta \u001b[36m0:00:00\u001b[0m\n",
            "\u001b[2K   \u001b[90m━━━━━━━━━━━━━━━━━━━━━━━━━━━━━━━━━━━━━━━━\u001b[0m \u001b[32m208.0/208.0 kB\u001b[0m \u001b[31m22.2 MB/s\u001b[0m eta \u001b[36m0:00:00\u001b[0m\n",
            "\u001b[2K   \u001b[90m━━━━━━━━━━━━━━━━━━━━━━━━━━━━━━━━━━━━━━━━\u001b[0m \u001b[32m105.4/105.4 kB\u001b[0m \u001b[31m11.3 MB/s\u001b[0m eta \u001b[36m0:00:00\u001b[0m\n",
            "\u001b[2K   \u001b[90m━━━━━━━━━━━━━━━━━━━━━━━━━━━━━━━━━━━━━━━━\u001b[0m \u001b[32m71.6/71.6 kB\u001b[0m \u001b[31m7.2 MB/s\u001b[0m eta \u001b[36m0:00:00\u001b[0m\n",
            "\u001b[2K   \u001b[90m━━━━━━━━━━━━━━━━━━━━━━━━━━━━━━━━━━━━━━━━\u001b[0m \u001b[32m64.7/64.7 kB\u001b[0m \u001b[31m8.1 MB/s\u001b[0m eta \u001b[36m0:00:00\u001b[0m\n",
            "\u001b[2K   \u001b[90m━━━━━━━━━━━━━━━━━━━━━━━━━━━━━━━━━━━━━━━━\u001b[0m \u001b[32m510.8/510.8 kB\u001b[0m \u001b[31m47.5 MB/s\u001b[0m eta \u001b[36m0:00:00\u001b[0m\n",
            "\u001b[2K   \u001b[90m━━━━━━━━━━━━━━━━━━━━━━━━━━━━━━━━━━━━━━━━\u001b[0m \u001b[32m50.9/50.9 kB\u001b[0m \u001b[31m5.2 MB/s\u001b[0m eta \u001b[36m0:00:00\u001b[0m\n",
            "\u001b[2K   \u001b[90m━━━━━━━━━━━━━━━━━━━━━━━━━━━━━━━━━━━━━━━━\u001b[0m \u001b[32m4.7/4.7 MB\u001b[0m \u001b[31m117.9 MB/s\u001b[0m eta \u001b[36m0:00:00\u001b[0m\n",
            "\u001b[2K   \u001b[90m━━━━━━━━━━━━━━━━━━━━━━━━━━━━━━━━━━━━━━━━\u001b[0m \u001b[32m452.2/452.2 kB\u001b[0m \u001b[31m41.8 MB/s\u001b[0m eta \u001b[36m0:00:00\u001b[0m\n",
            "\u001b[2K   \u001b[90m━━━━━━━━━━━━━━━━━━━━━━━━━━━━━━━━━━━━━━━━\u001b[0m \u001b[32m46.0/46.0 kB\u001b[0m \u001b[31m4.8 MB/s\u001b[0m eta \u001b[36m0:00:00\u001b[0m\n",
            "\u001b[2K   \u001b[90m━━━━━━━━━━━━━━━━━━━━━━━━━━━━━━━━━━━━━━━━\u001b[0m \u001b[32m86.8/86.8 kB\u001b[0m \u001b[31m7.9 MB/s\u001b[0m eta \u001b[36m0:00:00\u001b[0m\n",
            "\u001b[?25h  Building wheel for pypika (pyproject.toml) ... \u001b[?25l\u001b[?25hdone\n",
            "\u001b[31mERROR: pip's dependency resolver does not currently take into account all the packages that are installed. This behaviour is the source of the following dependency conflicts.\n",
            "google-colab 1.0.0 requires requests==2.32.4, but you have requests 2.32.5 which is incompatible.\u001b[0m\u001b[31m\n",
            "\u001b[0m"
          ]
        }
      ]
    },
    {
      "cell_type": "code",
      "source": [
        "from langchain_community.embeddings import HuggingFaceEmbeddings\n",
        "from langchain_community.vectorstores import Chroma\n",
        "\n",
        "# Use GPU if you switched Colab to GPU: Runtime → Change runtime type → T4/A100 (Pro benefit)\n",
        "emb = HuggingFaceEmbeddings(\n",
        "    model_name=\"sentence-transformers/all-MiniLM-L6-v2\",\n",
        "    model_kwargs={\"device\": \"cuda\"}  # or \"cpu\" if no GPU\n",
        ")\n",
        "\n",
        "vectorstore = Chroma.from_documents(\n",
        "    documents=chunks,\n",
        "    embedding=emb,\n",
        "    collection_name=\"educosys\",\n",
        "    persist_directory=\"chroma_db\"\n",
        ")\n",
        "retriever = vectorstore.as_retriever(search_kwargs={\"k\": 5})\n"
      ],
      "metadata": {
        "id": "FwPPlYqDNb8I"
      },
      "execution_count": 9,
      "outputs": []
    },
    {
      "cell_type": "code",
      "source": [
        "# Works only inside Google Colab\n",
        "from google.colab import ai\n",
        "\n",
        "def rag_answer(question, k=5, max_chars=1200):\n",
        "    docs = retriever.get_relevant_documents(question)\n",
        "    context = \"\\n\\n\".join(\n",
        "        f\"[{i+1}] {d.metadata.get('source','')}\\n{d.page_content[:max_chars]}\"\n",
        "        for i, d in enumerate(docs)\n",
        "    )\n",
        "    prompt = (\n",
        "        \"You are a helpful assistant. Answer using ONLY the context.\\n\\n\"\n",
        "        f\"Context:\\n{context}\\n\\nQuestion: {question}\\n\\nAnswer:\"\n",
        "    )\n",
        "    reply = ai.generate_text(prompt)  # no API key needed on Colab Pro/Pro+\n",
        "    return reply, docs\n",
        "\n",
        "answer, sources = rag_answer(\"Is neural networks part of the courses offered?\")\n",
        "print(answer)\n",
        "print(\"\\nSources:\")\n",
        "for s in sources: print(\"-\", s.metadata.get(\"source\",\"\"))\n"
      ],
      "metadata": {
        "colab": {
          "base_uri": "https://localhost:8080/"
        },
        "id": "okp7nG2PVQzf",
        "outputId": "d59776d5-bb32-4bfe-ea24-d5e7e387bdf5"
      },
      "execution_count": 15,
      "outputs": [
        {
          "output_type": "stream",
          "name": "stdout",
          "text": [
            "Yes, the course covers the basics of neural networks. [3, 5]\n",
            "\n",
            "\n",
            "Sources:\n",
            "- https://www.educosys.com/course/genai\n",
            "- https://www.educosys.com/course/genai\n",
            "- https://www.educosys.com/course/genai\n",
            "- https://www.educosys.com/course/hld\n",
            "- https://www.educosys.com/course/genai\n"
          ]
        }
      ]
    }
  ]
}